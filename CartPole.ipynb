{
 "cells": [
  {
   "cell_type": "markdown",
   "metadata": {},
   "source": [
    "    Observation: \n",
    "        Type: Box(4)\n",
    "        Num\tObservation                 Min         Max\n",
    "        0\tCart Position             -4.8            4.8\n",
    "        1\tCart Velocity             -Inf            Inf\n",
    "        2\tPole Angle                 -24 deg        24 deg\n",
    "        3\tPole Velocity At Tip      -Inf            Inf\n",
    "        \n",
    "    Actions:\n",
    "        Type: Discrete(2)\n",
    "        Num\tAction\n",
    "        0\tPush cart to the left\n",
    "        1\tPush cart to the right\n",
    "        \n",
    "        \n",
    "        \n",
    "We give the 4 observations as an input and let the machine decide what to do\n",
    "Markov Decision Process\n",
    "\n",
    "\tM = (S, A, P, R, y)\n",
    "\tS = Observation (Cart position, cart velocity, pole angle, pole velocity at tip)\n",
    "\tA = Actions (0, 1)\n",
    "\tP = transition probablity function\n",
    "\tR = reward function\n",
    "    y = discounting factor for future rewards \n",
    "\n",
    "\n",
    "Markov\n",
    "\n",
    "Temporal Difference learning\n",
    "\n",
    "Q-Learning/SARSA"
   ]
  },
  {
   "cell_type": "code",
   "execution_count": 7,
   "metadata": {},
   "outputs": [
    {
     "name": "stderr",
     "output_type": "stream",
     "text": [
      "/Users/euan/anaconda3/lib/python3.7/site-packages/ipykernel_launcher.py:40: RuntimeWarning: overflow encountered in subtract\n"
     ]
    },
    {
     "name": "stdout",
     "output_type": "stream",
     "text": [
      "Iteration #1 -- Total reward = 9.\n",
      "Iteration #201 -- Total reward = 18.\n",
      "Iteration #401 -- Total reward = 17.\n",
      "Iteration #601 -- Total reward = 10.\n",
      "Iteration #801 -- Total reward = 15.\n",
      "Iteration #1001 -- Total reward = 17.\n",
      "Iteration #1201 -- Total reward = 42.\n",
      "Iteration #1401 -- Total reward = 13.\n",
      "Iteration #1601 -- Total reward = 20.\n",
      "Iteration #1801 -- Total reward = 22.\n",
      "Iteration #2001 -- Total reward = 17.\n",
      "Iteration #2201 -- Total reward = 17.\n",
      "Iteration #2401 -- Total reward = 21.\n",
      "Iteration #2601 -- Total reward = 35.\n",
      "Iteration #2801 -- Total reward = 10.\n",
      "Iteration #3001 -- Total reward = 16.\n",
      "Iteration #3201 -- Total reward = 21.\n",
      "Iteration #3401 -- Total reward = 45.\n",
      "Iteration #3601 -- Total reward = 29.\n",
      "Iteration #3801 -- Total reward = 11.\n",
      "Iteration #4001 -- Total reward = 13.\n",
      "Iteration #4201 -- Total reward = 16.\n",
      "Iteration #4401 -- Total reward = 10.\n",
      "Iteration #4601 -- Total reward = 23.\n",
      "Iteration #4801 -- Total reward = 18.\n"
     ]
    }
   ],
   "source": [
    "import numpy as np\n",
    "\n",
    "import gym\n",
    "from gym import wrappers\n",
    "\n",
    "n_states = 50\n",
    "iter_max = 5000\n",
    "\n",
    "alpha = 0.2\n",
    "gamma = 0.9\n",
    "t_max = 500\n",
    "# later 0.1\n",
    "eps = 0.02\n",
    "\n",
    "# Used to check model\n",
    "def run_episode(env, policy=None, render=False):\n",
    "    obs = env.reset()\n",
    "    total_reward = 0\n",
    "    step_idx = 0\n",
    "    for _ in range(t_max):\n",
    "        if render:\n",
    "            env.render()\n",
    "        if policy is None:\n",
    "            action = env.action_space.sample()\n",
    "        else:\n",
    "            a,b,c,d = obs_to_state(env, obs)\n",
    "            action = policy[a][b][c][d]\n",
    "        obs, reward, done, _ = env.step(action)\n",
    "        total_reward += gamma ** step_idx * reward\n",
    "        step_idx += 1\n",
    "        if done:\n",
    "            break\n",
    "    return total_reward\n",
    "\n",
    "def obs_to_state(env, obs):\n",
    "    \"\"\" Maps an observation to state \"\"\"\n",
    "    # Splits the observations ranges into equal chunks, different values fall into these chunks\n",
    "    env_low = env.observation_space.low\n",
    "    env_high = env.observation_space.high\n",
    "    env_dx = (env_high - env_low) / n_states\n",
    "    # Cart position and Pole velocity were always at 0 so I removed them for simplicity\n",
    "    # Add back\n",
    "    a = int((obs[0] - env_low[0])/env_dx[0])\n",
    "    b = int((obs[1] - env_low[1])/env_dx[1])\n",
    "    c = int((obs[2] - env_low[2])/env_dx[2])\n",
    "    d = int((obs[3] - env_low[3])/env_dx[3])\n",
    "#     print(a, obs[0], env_low[0], env_dx[0])\n",
    "#     print(b, obs[1], env_low[1], env_dx[1])\n",
    "#     print(c, obs[2], env_low[2], env_dx[2])\n",
    "#     print(d, obs[3], env_low[3], env_dx[3])\n",
    "    return a, b, c, d\n",
    "\n",
    "if __name__ == '__main__':\n",
    "    env = gym.make('CartPole-v1').env\n",
    "\n",
    "    # Creating the table\n",
    "    # Each possible action a has its own matrix, with each action b assigned to an array in that matrix\n",
    "    # Inside each array has two values, the expected reward when choosing to go left\n",
    "    # and the expected reward when choosing to go right\n",
    "    \n",
    "    # make random\n",
    "    q_table = np.zeros((n_states, n_states, n_states, n_states, 2))\n",
    "\n",
    "    for i in range(iter_max):\n",
    "        obs = env.reset()\n",
    "        total_reward = 0\n",
    "        \n",
    "#         env.render()\n",
    "        \n",
    "        for j in range(t_max):\n",
    "            a, b, c, d = obs_to_state(env, obs)\n",
    "            \n",
    "#             print(a, b, obs, action)\n",
    "#             print(a,b)\n",
    "\n",
    "            # Randomly choose an option 1/5 of the time, eps = 0.2\n",
    "            if np.random.uniform(0, 1) < eps:\n",
    "                action = np.random.choice(env.action_space.n)\n",
    "            else:\n",
    "                # Can remove this random selection as we already have it from above\n",
    "                # Gives a 3 length array, [action1, action2, action3]\n",
    "                # Each Gives the expect reward at the next stage\n",
    "                # Left, Right, Not Moving\n",
    "                logits = q_table[a][b][c][d]\n",
    "                # This section is used to choose an action with weighted random selection\n",
    "                \n",
    "                # Need to get the probabilities in the array to add to 1\n",
    "                # np.exp calculates the exponential of everything in the array\n",
    "                logits_exp = np.exp(logits)\n",
    "                probs = logits_exp / np.sum(logits_exp)\n",
    "                \n",
    "                # Choose an action with weighted random selection\n",
    "                action = np.random.choice(env.action_space.n, p=probs)\n",
    "            \n",
    "            # Get next state info\n",
    "            obs, reward, done, _ = env.step(action)\n",
    "            total_reward += reward\n",
    "            \n",
    "            # updating q table\n",
    "            # a_, b_ are the next state\n",
    "            a_,b_,c_,d_ = obs_to_state(env, obs)\n",
    "                        \n",
    "            cur_action = q_table[a][b][c][d][action]\n",
    "            next_action = np.max(q_table[a_][b_][c_][d_])\n",
    "\n",
    "            if done:\n",
    "                break\n",
    "            \n",
    "            # Using eta to learn faster at the start\n",
    "            # Taking the best expected reward from\n",
    "            # the next state + actual reward - the expected reward from the current action\n",
    "            q_table[a][b][c][d][action] = cur_action + alpha * (reward + (gamma *  next_action) - cur_action)\n",
    "\n",
    "\n",
    "        if i % 200 == 0:\n",
    "            print('Iteration #%d -- Total reward = %d.' %(i+1, total_reward))"
   ]
  },
  {
   "attachments": {
    "image.png": {
     "image/png": "[encoded data removed]"
    }
   },
   "cell_type": "markdown",
   "metadata": {},
   "source": [
    "![image.png](attachment:image.png)"
   ]
  },
  {
   "cell_type": "code",
   "execution_count": null,
   "metadata": {},
   "outputs": [],
   "source": [
    "            if done:\n",
    "                if j == 500:\n",
    "                    break\n",
    "                else:\n",
    "                    reward = 100\n",
    "                    # Add a alpha, to slow learning rate (0.2)\n",
    "                    # Lower gamma (0.9)\n",
    "                    q_table[a][b][c][d][action] = cur_action + alpha * (reward + (gamma *  next_action) - cur_action)\n",
    "                    break"
   ]
  },
  {
   "cell_type": "code",
   "execution_count": 6,
   "metadata": {},
   "outputs": [
    {
     "name": "stderr",
     "output_type": "stream",
     "text": [
      "/Users/euan/anaconda3/lib/python3.7/site-packages/ipykernel_launcher.py:40: RuntimeWarning: overflow encountered in subtract\n"
     ]
    },
    {
     "name": "stdout",
     "output_type": "stream",
     "text": [
      "Average score of solution =  7.865593175652522\n"
     ]
    }
   ],
   "source": [
    "# Testing the model\n",
    "solution_policy = np.argmax(q_table, axis=4)\n",
    "solution_policy_scores = [run_episode(env, solution_policy, False) for _ in range(1000)]\n",
    "print(\"Average score of solution = \", np.mean(solution_policy_scores))"
   ]
  },
  {
   "cell_type": "code",
   "execution_count": 6,
   "metadata": {},
   "outputs": [
    {
     "data": {
      "text/plain": [
       "array([[[0., 0.],\n",
       "        [0., 0.],\n",
       "        [0., 0.],\n",
       "        ...,\n",
       "        [0., 0.],\n",
       "        [0., 0.],\n",
       "        [0., 0.]],\n",
       "\n",
       "       [[0., 0.],\n",
       "        [0., 0.],\n",
       "        [0., 0.],\n",
       "        ...,\n",
       "        [0., 0.],\n",
       "        [0., 0.],\n",
       "        [0., 0.]],\n",
       "\n",
       "       [[0., 0.],\n",
       "        [0., 0.],\n",
       "        [0., 0.],\n",
       "        ...,\n",
       "        [0., 0.],\n",
       "        [0., 0.],\n",
       "        [0., 0.]],\n",
       "\n",
       "       ...,\n",
       "\n",
       "       [[0., 0.],\n",
       "        [0., 0.],\n",
       "        [0., 0.],\n",
       "        ...,\n",
       "        [0., 0.],\n",
       "        [0., 0.],\n",
       "        [0., 0.]],\n",
       "\n",
       "       [[0., 0.],\n",
       "        [0., 0.],\n",
       "        [0., 0.],\n",
       "        ...,\n",
       "        [0., 0.],\n",
       "        [0., 0.],\n",
       "        [0., 0.]],\n",
       "\n",
       "       [[0., 0.],\n",
       "        [0., 0.],\n",
       "        [0., 0.],\n",
       "        ...,\n",
       "        [0., 0.],\n",
       "        [0., 0.],\n",
       "        [0., 0.]]])"
      ]
     },
     "execution_count": 6,
     "metadata": {},
     "output_type": "execute_result"
    }
   ],
   "source": [
    "q_table[100][100]"
   ]
  },
  {
   "cell_type": "code",
   "execution_count": null,
   "metadata": {},
   "outputs": [],
   "source": [
    "env.action_space"
   ]
  },
  {
   "cell_type": "code",
   "execution_count": null,
   "metadata": {},
   "outputs": [],
   "source": [
    "env.observation_space.low"
   ]
  },
  {
   "cell_type": "code",
   "execution_count": null,
   "metadata": {},
   "outputs": [],
   "source": [
    "np.random.uniform(0, 1)"
   ]
  },
  {
   "cell_type": "code",
   "execution_count": null,
   "metadata": {},
   "outputs": [],
   "source": [
    "np.random.choice(env.action_space.n)"
   ]
  },
  {
   "cell_type": "code",
   "execution_count": null,
   "metadata": {},
   "outputs": [],
   "source": [
    "test = np.random.uniform(0, -1, 3)"
   ]
  },
  {
   "cell_type": "code",
   "execution_count": null,
   "metadata": {},
   "outputs": [],
   "source": [
    "test"
   ]
  },
  {
   "cell_type": "code",
   "execution_count": null,
   "metadata": {},
   "outputs": [],
   "source": [
    "exp_test = np.exp(test)"
   ]
  },
  {
   "cell_type": "code",
   "execution_count": null,
   "metadata": {},
   "outputs": [],
   "source": [
    "exp_test"
   ]
  },
  {
   "cell_type": "code",
   "execution_count": null,
   "metadata": {},
   "outputs": [],
   "source": [
    "                logits_exp = np.exp(logits)\n",
    "                probs = logits_exp / np.sum(logits_exp)\n",
    "                action = np.random.choice(env.action_space.n, p=probs)\n",
    "            obs, reward, done, _ = env.step(action)\n",
    "            total_reward += reward"
   ]
  },
  {
   "cell_type": "code",
   "execution_count": null,
   "metadata": {},
   "outputs": [],
   "source": [
    "p_test = exp_test / np.sum(exp_test)"
   ]
  },
  {
   "cell_type": "code",
   "execution_count": null,
   "metadata": {},
   "outputs": [],
   "source": [
    "p_test"
   ]
  },
  {
   "cell_type": "code",
   "execution_count": null,
   "metadata": {},
   "outputs": [],
   "source": [
    "np.random.choice(3, p=p_test)"
   ]
  },
  {
   "cell_type": "code",
   "execution_count": null,
   "metadata": {},
   "outputs": [],
   "source": [
    "np.random.choice(5, 3, p=[0.1, 0, 0.9, 0, 0])"
   ]
  },
  {
   "cell_type": "code",
   "execution_count": null,
   "metadata": {},
   "outputs": [],
   "source": [
    "np.max(p_test)"
   ]
  },
  {
   "cell_type": "code",
   "execution_count": null,
   "metadata": {},
   "outputs": [],
   "source": [
    "    # Animate it\n",
    "#     run_episode(env, solution_policy, True)"
   ]
  }
 ],
 "metadata": {
  "kernelspec": {
   "display_name": "Python 3",
   "language": "python",
   "name": "python3"
  },
  "language_info": {
   "codemirror_mode": {
    "name": "ipython",
    "version": 3
   },
   "file_extension": ".py",
   "mimetype": "text/x-python",
   "name": "python",
   "nbconvert_exporter": "python",
   "pygments_lexer": "ipython3",
   "version": "3.7.4"
  }
 },
 "nbformat": 4,
 "nbformat_minor": 2
}
